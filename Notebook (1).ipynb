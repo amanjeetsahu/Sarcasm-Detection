{
  "nbformat": 4,
  "nbformat_minor": 0,
  "metadata": {
    "accelerator": "GPU",
    "colab": {
      "name": "Notebook.ipynb",
      "provenance": [],
      "collapsed_sections": []
    },
    "kernelspec": {
      "display_name": "Python 3",
      "language": "python",
      "name": "python3"
    },
    "language_info": {
      "codemirror_mode": {
        "name": "ipython",
        "version": 3
      },
      "file_extension": ".py",
      "mimetype": "text/x-python",
      "name": "python",
      "nbconvert_exporter": "python",
      "pygments_lexer": "ipython3",
      "version": "3.7.4"
    }
  },
  "cells": [
    {
      "cell_type": "markdown",
      "metadata": {
        "id": "4yoomsiRChAT",
        "colab_type": "text"
      },
      "source": [
        "# Sarcasm Detection Using Tensorflow"
      ]
    },
    {
      "cell_type": "code",
      "metadata": {
        "colab_type": "code",
        "id": "4gs9htvM7n_x",
        "colab": {}
      },
      "source": [
        "# Run this to ensure TensorFlow 2.x is used\n",
        "try:\n",
        "  # %tensorflow_version only exists in Colab.\n",
        "  %tensorflow_version 2.x\n",
        "except Exception:\n",
        "  pass"
      ],
      "execution_count": 0,
      "outputs": []
    },
    {
      "cell_type": "code",
      "metadata": {
        "colab_type": "code",
        "id": "XYYDvoskkE61",
        "colab": {}
      },
      "source": [
        "import json\n",
        "import tensorflow as tf\n",
        "\n",
        "from tensorflow.keras.preprocessing.text import Tokenizer\n",
        "from tensorflow.keras.preprocessing.sequence import pad_sequences"
      ],
      "execution_count": 0,
      "outputs": []
    },
    {
      "cell_type": "code",
      "metadata": {
        "colab_type": "code",
        "id": "0eJSTTYnkJQd",
        "colab": {}
      },
      "source": [
        "vocab_size = 10000\n",
        "embedding_dim = 16\n",
        "max_length = 100\n",
        "trunc_type='post'\n",
        "padding_type='post'\n",
        "oov_tok = \"<OOV>\"\n",
        "training_size = 20000\n"
      ],
      "execution_count": 0,
      "outputs": []
    },
    {
      "cell_type": "code",
      "metadata": {
        "colab_type": "code",
        "id": "BQVuQrZNkPn9",
        "colab": {
          "base_uri": "https://localhost:8080/",
          "height": 202
        },
        "outputId": "03354126-65f9-4ba6-94a8-abc1d371f999"
      },
      "source": [
        "!wget --no-check-certificate \\\n",
        "    https://storage.googleapis.com/laurencemoroney-blog.appspot.com/sarcasm.json \\\n",
        "    -O /tmp/sarcasm.json\n"
      ],
      "execution_count": 4,
      "outputs": [
        {
          "output_type": "stream",
          "text": [
            "--2020-03-31 05:22:45--  https://storage.googleapis.com/laurencemoroney-blog.appspot.com/sarcasm.json\n",
            "Resolving storage.googleapis.com (storage.googleapis.com)... 172.217.4.176, 2607:f8b0:4007:804::2010\n",
            "Connecting to storage.googleapis.com (storage.googleapis.com)|172.217.4.176|:443... connected.\n",
            "HTTP request sent, awaiting response... 200 OK\n",
            "Length: 5643545 (5.4M) [application/json]\n",
            "Saving to: ‘/tmp/sarcasm.json’\n",
            "\n",
            "\r/tmp/sarcasm.json     0%[                    ]       0  --.-KB/s               \r/tmp/sarcasm.json   100%[===================>]   5.38M  --.-KB/s    in 0.03s   \n",
            "\n",
            "2020-03-31 05:22:45 (191 MB/s) - ‘/tmp/sarcasm.json’ saved [5643545/5643545]\n",
            "\n"
          ],
          "name": "stdout"
        }
      ]
    },
    {
      "cell_type": "code",
      "metadata": {
        "colab_type": "code",
        "id": "oaLaaqhNkUPd",
        "colab": {}
      },
      "source": [
        "with open(\"/tmp/sarcasm.json\", 'r') as f:\n",
        "    datastore = json.load(f)\n",
        "\n",
        "sentences = []\n",
        "labels = []\n",
        "\n",
        "for item in datastore:\n",
        "    sentences.append(item['headline'])\n",
        "    labels.append(item['is_sarcastic'])"
      ],
      "execution_count": 0,
      "outputs": []
    },
    {
      "cell_type": "code",
      "metadata": {
        "colab_type": "code",
        "id": "S1sD-7v0kYWk",
        "colab": {}
      },
      "source": [
        "training_sentences = sentences[0:training_size]\n",
        "testing_sentences = sentences[training_size:]\n",
        "training_labels = labels[0:training_size]\n",
        "testing_labels = labels[training_size:]"
      ],
      "execution_count": 0,
      "outputs": []
    },
    {
      "cell_type": "code",
      "metadata": {
        "colab_type": "code",
        "id": "3u8UB0MCkZ5N",
        "colab": {}
      },
      "source": [
        "tokenizer = Tokenizer(num_words=vocab_size, oov_token=oov_tok)\n",
        "tokenizer.fit_on_texts(training_sentences)\n",
        "\n",
        "word_index = tokenizer.word_index\n",
        "\n",
        "training_sequences = tokenizer.texts_to_sequences(training_sentences)\n",
        "training_padded = pad_sequences(training_sequences, maxlen=max_length, padding=padding_type, truncating=trunc_type)\n",
        "\n",
        "testing_sequences = tokenizer.texts_to_sequences(testing_sentences)\n",
        "testing_padded = pad_sequences(testing_sequences, maxlen=max_length, padding=padding_type, truncating=trunc_type)"
      ],
      "execution_count": 0,
      "outputs": []
    },
    {
      "cell_type": "code",
      "metadata": {
        "colab_type": "code",
        "id": "GrAlWBKf99Ya",
        "colab": {}
      },
      "source": [
        "# Need this block to get it to work with TensorFlow 2.x\n",
        "import numpy as np\n",
        "training_padded = np.array(training_padded)\n",
        "training_labels = np.array(training_labels)\n",
        "testing_padded = np.array(testing_padded)\n",
        "testing_labels = np.array(testing_labels)"
      ],
      "execution_count": 0,
      "outputs": []
    },
    {
      "cell_type": "code",
      "metadata": {
        "colab_type": "code",
        "id": "FufaT4vlkiDE",
        "colab": {}
      },
      "source": [
        "model = tf.keras.Sequential([\n",
        "    tf.keras.layers.Embedding(vocab_size, embedding_dim, input_length=max_length),\n",
        "    tf.keras.layers.GlobalAveragePooling1D(),\n",
        "    tf.keras.layers.Dense(24, activation='relu'),\n",
        "    tf.keras.layers.Dense(1, activation='sigmoid')\n",
        "])\n",
        "model.compile(loss='binary_crossentropy',optimizer='adam',metrics=['accuracy'])"
      ],
      "execution_count": 0,
      "outputs": []
    },
    {
      "cell_type": "code",
      "metadata": {
        "colab_type": "code",
        "id": "XfDt1hmYkiys",
        "colab": {
          "base_uri": "https://localhost:8080/",
          "height": 286
        },
        "outputId": "a89f6ee9-8b95-443f-d606-c44fab294974"
      },
      "source": [
        "model.summary()\n"
      ],
      "execution_count": 10,
      "outputs": [
        {
          "output_type": "stream",
          "text": [
            "Model: \"sequential\"\n",
            "_________________________________________________________________\n",
            "Layer (type)                 Output Shape              Param #   \n",
            "=================================================================\n",
            "embedding (Embedding)        (None, 100, 16)           160000    \n",
            "_________________________________________________________________\n",
            "global_average_pooling1d (Gl (None, 16)                0         \n",
            "_________________________________________________________________\n",
            "dense (Dense)                (None, 24)                408       \n",
            "_________________________________________________________________\n",
            "dense_1 (Dense)              (None, 1)                 25        \n",
            "=================================================================\n",
            "Total params: 160,433\n",
            "Trainable params: 160,433\n",
            "Non-trainable params: 0\n",
            "_________________________________________________________________\n"
          ],
          "name": "stdout"
        }
      ]
    },
    {
      "cell_type": "code",
      "metadata": {
        "colab_type": "code",
        "id": "2DTKQFf1kkyc",
        "colab": {
          "base_uri": "https://localhost:8080/",
          "height": 1000
        },
        "outputId": "aeed60e8-0fe6-426b-83eb-9acc5a82b34a"
      },
      "source": [
        "num_epochs = 30\n",
        "history = model.fit(training_padded, training_labels, epochs=num_epochs, validation_data=(testing_padded, testing_labels), verbose=2)"
      ],
      "execution_count": 11,
      "outputs": [
        {
          "output_type": "stream",
          "text": [
            "Epoch 1/30\n",
            "625/625 - 3s - loss: 0.6761 - accuracy: 0.5644 - val_loss: 0.6309 - val_accuracy: 0.6843\n",
            "Epoch 2/30\n",
            "625/625 - 3s - loss: 0.4767 - accuracy: 0.8055 - val_loss: 0.4043 - val_accuracy: 0.8340\n",
            "Epoch 3/30\n",
            "625/625 - 3s - loss: 0.3285 - accuracy: 0.8716 - val_loss: 0.3623 - val_accuracy: 0.8462\n",
            "Epoch 4/30\n",
            "625/625 - 3s - loss: 0.2731 - accuracy: 0.8942 - val_loss: 0.3451 - val_accuracy: 0.8571\n",
            "Epoch 5/30\n",
            "625/625 - 3s - loss: 0.2357 - accuracy: 0.9097 - val_loss: 0.3507 - val_accuracy: 0.8536\n",
            "Epoch 6/30\n",
            "625/625 - 3s - loss: 0.2082 - accuracy: 0.9212 - val_loss: 0.3538 - val_accuracy: 0.8504\n",
            "Epoch 7/30\n",
            "625/625 - 3s - loss: 0.1852 - accuracy: 0.9305 - val_loss: 0.3535 - val_accuracy: 0.8565\n",
            "Epoch 8/30\n",
            "625/625 - 3s - loss: 0.1663 - accuracy: 0.9377 - val_loss: 0.3714 - val_accuracy: 0.8512\n",
            "Epoch 9/30\n",
            "625/625 - 3s - loss: 0.1502 - accuracy: 0.9458 - val_loss: 0.3913 - val_accuracy: 0.8489\n",
            "Epoch 10/30\n",
            "625/625 - 3s - loss: 0.1378 - accuracy: 0.9504 - val_loss: 0.4131 - val_accuracy: 0.8427\n",
            "Epoch 11/30\n",
            "625/625 - 3s - loss: 0.1272 - accuracy: 0.9559 - val_loss: 0.4150 - val_accuracy: 0.8480\n",
            "Epoch 12/30\n",
            "625/625 - 3s - loss: 0.1156 - accuracy: 0.9614 - val_loss: 0.4330 - val_accuracy: 0.8477\n",
            "Epoch 13/30\n",
            "625/625 - 3s - loss: 0.1065 - accuracy: 0.9623 - val_loss: 0.4665 - val_accuracy: 0.8417\n",
            "Epoch 14/30\n",
            "625/625 - 3s - loss: 0.0992 - accuracy: 0.9667 - val_loss: 0.4745 - val_accuracy: 0.8453\n",
            "Epoch 15/30\n",
            "625/625 - 3s - loss: 0.0907 - accuracy: 0.9702 - val_loss: 0.5007 - val_accuracy: 0.8422\n",
            "Epoch 16/30\n",
            "625/625 - 3s - loss: 0.0846 - accuracy: 0.9718 - val_loss: 0.5206 - val_accuracy: 0.8399\n",
            "Epoch 17/30\n",
            "625/625 - 3s - loss: 0.0772 - accuracy: 0.9754 - val_loss: 0.5471 - val_accuracy: 0.8384\n",
            "Epoch 18/30\n",
            "625/625 - 3s - loss: 0.0722 - accuracy: 0.9779 - val_loss: 0.5739 - val_accuracy: 0.8362\n",
            "Epoch 19/30\n",
            "625/625 - 3s - loss: 0.0666 - accuracy: 0.9783 - val_loss: 0.6018 - val_accuracy: 0.8347\n",
            "Epoch 20/30\n",
            "625/625 - 3s - loss: 0.0622 - accuracy: 0.9808 - val_loss: 0.6327 - val_accuracy: 0.8331\n",
            "Epoch 21/30\n",
            "625/625 - 3s - loss: 0.0567 - accuracy: 0.9833 - val_loss: 0.6637 - val_accuracy: 0.8305\n",
            "Epoch 22/30\n",
            "625/625 - 3s - loss: 0.0522 - accuracy: 0.9845 - val_loss: 0.7052 - val_accuracy: 0.8280\n",
            "Epoch 23/30\n",
            "625/625 - 3s - loss: 0.0486 - accuracy: 0.9852 - val_loss: 0.7542 - val_accuracy: 0.8220\n",
            "Epoch 24/30\n",
            "625/625 - 2s - loss: 0.0455 - accuracy: 0.9866 - val_loss: 0.7780 - val_accuracy: 0.8231\n",
            "Epoch 25/30\n",
            "625/625 - 3s - loss: 0.0421 - accuracy: 0.9872 - val_loss: 0.8308 - val_accuracy: 0.8205\n",
            "Epoch 26/30\n",
            "625/625 - 3s - loss: 0.0412 - accuracy: 0.9887 - val_loss: 0.8182 - val_accuracy: 0.8237\n",
            "Epoch 27/30\n",
            "625/625 - 3s - loss: 0.0373 - accuracy: 0.9888 - val_loss: 0.8495 - val_accuracy: 0.8210\n",
            "Epoch 28/30\n",
            "625/625 - 3s - loss: 0.0336 - accuracy: 0.9908 - val_loss: 0.8934 - val_accuracy: 0.8202\n",
            "Epoch 29/30\n",
            "625/625 - 3s - loss: 0.0308 - accuracy: 0.9918 - val_loss: 0.9694 - val_accuracy: 0.8179\n",
            "Epoch 30/30\n",
            "625/625 - 3s - loss: 0.0296 - accuracy: 0.9924 - val_loss: 1.0005 - val_accuracy: 0.8171\n"
          ],
          "name": "stdout"
        }
      ]
    },
    {
      "cell_type": "code",
      "metadata": {
        "colab_type": "code",
        "id": "2HYfBKXjkmU8",
        "colab": {
          "base_uri": "https://localhost:8080/",
          "height": 541
        },
        "outputId": "68516da6-eba7-498a-9190-3943d9135dc6"
      },
      "source": [
        "import matplotlib.pyplot as plt\n",
        "\n",
        "\n",
        "def plot_graphs(history, string):\n",
        "  plt.plot(history.history[string])\n",
        "  plt.plot(history.history['val_'+string])\n",
        "  plt.xlabel(\"Epochs\")\n",
        "  plt.ylabel(string)\n",
        "  plt.legend([string, 'val_'+string])\n",
        "  plt.show()\n",
        "  \n",
        "plot_graphs(history, \"accuracy\")\n",
        "plot_graphs(history, \"loss\")"
      ],
      "execution_count": 12,
      "outputs": [
        {
          "output_type": "display_data",
          "data": {
            "image/png": "[encoded data removed]",
            "text/plain": [
              "<Figure size 432x288 with 1 Axes>"
            ]
          },
          "metadata": {
            "tags": []
          }
        },
        {
          "output_type": "display_data",
          "data": {
            "image/png": "[encoded data removed]",
            "text/plain": [
              "<Figure size 432x288 with 1 Axes>"
            ]
          },
          "metadata": {
            "tags": []
          }
        }
      ]
    },
    {
      "cell_type": "code",
      "metadata": {
        "colab_type": "code",
        "id": "7SBdAZAenvzL",
        "colab": {
          "base_uri": "https://localhost:8080/",
          "height": 87
        },
        "outputId": "b0898498-f061-4783-fe67-ff1026c33f40"
      },
      "source": [
        "reverse_word_index = dict([(value, key) for (key, value) in word_index.items()])\n",
        "\n",
        "def decode_sentence(text):\n",
        "    return ' '.join([reverse_word_index.get(i, '?') for i in text])\n",
        "\n",
        "print(decode_sentence(training_padded[0]))\n",
        "print(training_sentences[2])\n",
        "print(labels[2])"
      ],
      "execution_count": 13,
      "outputs": [
        {
          "output_type": "stream",
          "text": [
            "former <OOV> store clerk sues over secret 'black <OOV> for minority shoppers ? ? ? ? ? ? ? ? ? ? ? ? ? ? ? ? ? ? ? ? ? ? ? ? ? ? ? ? ? ? ? ? ? ? ? ? ? ? ? ? ? ? ? ? ? ? ? ? ? ? ? ? ? ? ? ? ? ? ? ? ? ? ? ? ? ? ? ? ? ? ? ? ? ? ? ? ? ? ? ? ? ? ? ? ? ? ? ?\n",
            "mom starting to fear son's web series closest thing she will have to grandchild\n",
            "1\n"
          ],
          "name": "stdout"
        }
      ]
    },
    {
      "cell_type": "code",
      "metadata": {
        "colab_type": "code",
        "id": "c9MqihtEkzQ9",
        "colab": {
          "base_uri": "https://localhost:8080/",
          "height": 34
        },
        "outputId": "361dc359-7da5-4e5b-b4cd-6f4cfcbb2dd7"
      },
      "source": [
        "e = model.layers[0]\n",
        "weights = e.get_weights()[0]\n",
        "print(weights.shape) # shape: (vocab_size, embedding_dim)\n"
      ],
      "execution_count": 14,
      "outputs": [
        {
          "output_type": "stream",
          "text": [
            "(10000, 16)\n"
          ],
          "name": "stdout"
        }
      ]
    },
    {
      "cell_type": "code",
      "metadata": {
        "colab_type": "code",
        "id": "LoBXVffknldU",
        "colab": {}
      },
      "source": [
        "import io\n",
        "\n",
        "out_v = io.open('vecs.tsv', 'w', encoding='utf-8')\n",
        "out_m = io.open('meta.tsv', 'w', encoding='utf-8')\n",
        "for word_num in range(1, vocab_size):\n",
        "  word = reverse_word_index[word_num]\n",
        "  embeddings = weights[word_num]\n",
        "  out_m.write(word + \"\\n\")\n",
        "  out_v.write('\\t'.join([str(x) for x in embeddings]) + \"\\n\")\n",
        "out_v.close()\n",
        "out_m.close()"
      ],
      "execution_count": 0,
      "outputs": []
    },
    {
      "cell_type": "code",
      "metadata": {
        "colab_type": "code",
        "id": "U4eZ5HtVnnEE",
        "colab": {}
      },
      "source": [
        "try:\n",
        "  from google.colab import files\n",
        "except ImportError:\n",
        "  pass\n",
        "else:\n",
        "  files.download('vecs.tsv')\n",
        "  files.download('meta.tsv')"
      ],
      "execution_count": 0,
      "outputs": []
    },
    {
      "cell_type": "code",
      "metadata": {
        "colab_type": "code",
        "id": "cG8-ArY-qDcz",
        "colab": {
          "base_uri": "https://localhost:8080/",
          "height": 50
        },
        "outputId": "67ac1359-d36d-45d0-9e61-a3c5edaa06f0"
      },
      "source": [
        "sentence = [\"granny starting to fear spiders in the garden might be real\", \"game of thrones season finale showing this sunday night\"]\n",
        "sequences = tokenizer.texts_to_sequences(sentence)\n",
        "padded = pad_sequences(sequences, maxlen=max_length, padding=padding_type, truncating=trunc_type)\n",
        "print(model.predict(padded))"
      ],
      "execution_count": 17,
      "outputs": [
        {
          "output_type": "stream",
          "text": [
            "[[7.7683073e-01]\n",
            " [3.3328739e-05]]\n"
          ],
          "name": "stdout"
        }
      ]
    }
  ]
}